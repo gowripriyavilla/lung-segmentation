{
 "cells": [
  {
   "cell_type": "code",
   "execution_count": 2,
   "id": "177ef879",
   "metadata": {},
   "outputs": [
    {
     "name": "stderr",
     "output_type": "stream",
     "text": [
      "\r",
      "  0%|                                                                                            | 0/5 [00:00<?, ?it/s]"
     ]
    },
    {
     "name": "stdout",
     "output_type": "stream",
     "text": [
      "1/1 [==============================] - 4s 4s/step\n"
     ]
    },
    {
     "name": "stderr",
     "output_type": "stream",
     "text": [
      "\r",
      " 20%|████████████████▊                                                                   | 1/5 [00:04<00:17,  4.46s/it]"
     ]
    },
    {
     "name": "stdout",
     "output_type": "stream",
     "text": [
      "1/1 [==============================] - 4s 4s/step\n"
     ]
    },
    {
     "name": "stderr",
     "output_type": "stream",
     "text": [
      "\r",
      " 40%|█████████████████████████████████▌                                                  | 2/5 [00:08<00:12,  4.07s/it]"
     ]
    },
    {
     "name": "stdout",
     "output_type": "stream",
     "text": [
      "1/1 [==============================] - 4s 4s/step\n"
     ]
    },
    {
     "name": "stderr",
     "output_type": "stream",
     "text": [
      "\r",
      " 60%|██████████████████████████████████████████████████▍                                 | 3/5 [00:12<00:07,  3.96s/it]"
     ]
    },
    {
     "name": "stdout",
     "output_type": "stream",
     "text": [
      "1/1 [==============================] - 4s 4s/step\n"
     ]
    },
    {
     "name": "stderr",
     "output_type": "stream",
     "text": [
      "\r",
      " 80%|███████████████████████████████████████████████████████████████████▏                | 4/5 [00:15<00:03,  3.91s/it]"
     ]
    },
    {
     "name": "stdout",
     "output_type": "stream",
     "text": [
      "1/1 [==============================] - 4s 4s/step\n"
     ]
    },
    {
     "name": "stderr",
     "output_type": "stream",
     "text": [
      "100%|████████████████████████████████████████████████████████████████████████████████████| 5/5 [00:19<00:00,  3.96s/it]\n"
     ]
    }
   ],
   "source": [
    "import import_ipynb\n",
    "import os\n",
    "os.environ[\"TF_CPP_MIN_LOG_LEVEL\"] = \"2\"\n",
    "import numpy as np\n",
    "import cv2\n",
    "from glob import glob\n",
    "from tqdm import tqdm\n",
    "import tensorflow as tf\n",
    "from tensorflow.keras.utils import CustomObjectScope\n",
    "from metrics import dice_loss, dice_coef, iou\n",
    "from train1 import load_data, create_dir, tf_dataset\n",
    "\n",
    "H = 512\n",
    "W = 512\n",
    "\n",
    "if __name__ == \"__main__\":\n",
    "    \"\"\" Seeding \"\"\"\n",
    "    np.random.seed(42)\n",
    "    tf.random.set_seed(42)\n",
    "\n",
    "    \"\"\" Directory for storing files \"\"\"\n",
    "    create_dir(\"results\")\n",
    "\n",
    "    \"\"\" Loading model \"\"\"\n",
    "    with CustomObjectScope({'iou': iou, 'dice_coef': dice_coef, 'dice_loss': dice_loss}):\n",
    "        model = tf.keras.models.load_model(\"files/model\")\n",
    "\n",
    "    \"\"\" Dataset \"\"\"\n",
    "    dataset_path = \"C:\\\\Users\\\\IIITSKLM\\\\Desktop\\\\indiana\"\n",
    "    (train_x, train_y1, train_y2), (valid_x, valid_y1, valid_y2), (test_x, test_y1, test_y2) = load_data(dataset_path)\n",
    "\n",
    "    \"\"\" Predicting the mask \"\"\"\n",
    "    for x, y1, y2 in tqdm(zip(test_x, test_y1, test_y2), total=len(test_x)):\n",
    "        \"\"\" Extracing the image name. \"\"\"\n",
    "        image_name = x.split(\"/\")[-1]\n",
    "\n",
    "        \"\"\" Reading the image \"\"\"\n",
    "        ori_x = cv2.imread(x, cv2.IMREAD_COLOR)\n",
    "        ori_x = cv2.resize(ori_x, (W, H))\n",
    "        x = ori_x/255.0\n",
    "        x = x.astype(np.float32)\n",
    "        x = np.expand_dims(x, axis=0)\n",
    "\n",
    "        \"\"\" Reading the mask \"\"\"\n",
    "        ori_y1 = cv2.imread(y1, cv2.IMREAD_GRAYSCALE)\n",
    "        ori_y2 = cv2.imread(y2, cv2.IMREAD_GRAYSCALE)\n",
    "        ori_y = ori_y1 + ori_y2\n",
    "        ori_y = cv2.resize(ori_y, (W, H))\n",
    "        ori_y = np.expand_dims(ori_y, axis=-1)  ## (512, 512, 1)\n",
    "        ori_y = np.concatenate([ori_y, ori_y, ori_y], axis=-1)  ## (512, 512, 3)\n",
    "\n",
    "        \"\"\" Predicting the mask. \"\"\"\n",
    "        y_pred = model.predict(x)[0] > 0.5\n",
    "        y_pred = y_pred.astype(np.int32)\n",
    "\n",
    "        \"\"\" Saving the predicted mask along with the image and GT \"\"\"\n",
    "        save_image_path = f\"results/{image_name}\"\n",
    "        y_pred = np.concatenate([y_pred, y_pred, y_pred], axis=-1)\n",
    "\n",
    "        sep_line = np.ones((H, 10, 3)) * 255\n",
    "\n",
    "        cat_image = np.concatenate([ori_x, sep_line, ori_y, sep_line, y_pred*255], axis=1)\n",
    "        cv2.imwrite(save_image_path, cat_image)\n"
   ]
  },
  {
   "cell_type": "code",
   "execution_count": null,
   "id": "f3f1ac8a",
   "metadata": {},
   "outputs": [],
   "source": []
  },
  {
   "cell_type": "code",
   "execution_count": null,
   "id": "d82bd35f",
   "metadata": {},
   "outputs": [],
   "source": []
  }
 ],
 "metadata": {
  "kernelspec": {
   "display_name": "Python 3 (ipykernel)",
   "language": "python",
   "name": "python3"
  },
  "language_info": {
   "codemirror_mode": {
    "name": "ipython",
    "version": 3
   },
   "file_extension": ".py",
   "mimetype": "text/x-python",
   "name": "python",
   "nbconvert_exporter": "python",
   "pygments_lexer": "ipython3",
   "version": "3.11.3"
  }
 },
 "nbformat": 4,
 "nbformat_minor": 5
}
